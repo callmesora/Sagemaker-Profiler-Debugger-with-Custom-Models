{
 "cells": [
  {
   "cell_type": "markdown",
   "metadata": {},
   "source": [
    "# TODO: Title\n",
    "\n",
    "This notebook lists all the steps that you need to complete the complete this project. You will need to complete all the TODOs in this notebook as well as in the README and the two python scripts included with the starter code.\n",
    "\n",
    "\n",
    "**TODO**: Give a helpful introduction to what this notebook is for. Remember that comments, explanations and good documentation make your project informative and professional.\n",
    "\n",
    "**Note:** This notebook has a bunch of code and markdown cells with TODOs that you have to complete. These are meant to be helpful guidelines for you to finish your project while meeting the requirements in the project rubrics. Feel free to change the order of these the TODO's and use more than one TODO code cell to do all your tasks."
   ]
  },
  {
   "cell_type": "code",
   "execution_count": 2,
   "metadata": {
    "scrolled": true
   },
   "outputs": [
    {
     "name": "stdout",
     "output_type": "stream",
     "text": [
      "Keyring is skipped due to an exception: 'keyring.backends'\n",
      "Collecting smdebug\n",
      "  Using cached smdebug-1.0.12-py2.py3-none-any.whl (270 kB)\n",
      "Requirement already satisfied: protobuf>=3.6.0 in /opt/conda/lib/python3.7/site-packages (from smdebug) (3.20.3)\n",
      "Requirement already satisfied: numpy>=1.16.0 in /opt/conda/lib/python3.7/site-packages (from smdebug) (1.21.6)\n",
      "Requirement already satisfied: packaging in /opt/conda/lib/python3.7/site-packages (from smdebug) (20.1)\n",
      "Collecting pyinstrument==3.4.2\n",
      "  Using cached pyinstrument-3.4.2-py2.py3-none-any.whl (83 kB)\n",
      "Requirement already satisfied: boto3>=1.10.32 in /opt/conda/lib/python3.7/site-packages (from smdebug) (1.26.24)\n",
      "Collecting pyinstrument-cext>=0.2.2\n",
      "  Using cached pyinstrument_cext-0.2.4-cp37-cp37m-manylinux2010_x86_64.whl (20 kB)\n",
      "Requirement already satisfied: s3transfer<0.7.0,>=0.6.0 in /opt/conda/lib/python3.7/site-packages (from boto3>=1.10.32->smdebug) (0.6.0)\n",
      "Requirement already satisfied: jmespath<2.0.0,>=0.7.1 in /opt/conda/lib/python3.7/site-packages (from boto3>=1.10.32->smdebug) (1.0.1)\n",
      "Requirement already satisfied: botocore<1.30.0,>=1.29.24 in /opt/conda/lib/python3.7/site-packages (from boto3>=1.10.32->smdebug) (1.29.24)\n",
      "Requirement already satisfied: pyparsing>=2.0.2 in /opt/conda/lib/python3.7/site-packages (from packaging->smdebug) (2.4.6)\n",
      "Requirement already satisfied: six in /opt/conda/lib/python3.7/site-packages (from packaging->smdebug) (1.14.0)\n",
      "Requirement already satisfied: python-dateutil<3.0.0,>=2.1 in /opt/conda/lib/python3.7/site-packages (from botocore<1.30.0,>=1.29.24->boto3>=1.10.32->smdebug) (2.8.2)\n",
      "Requirement already satisfied: urllib3<1.27,>=1.25.4 in /opt/conda/lib/python3.7/site-packages (from botocore<1.30.0,>=1.29.24->boto3>=1.10.32->smdebug) (1.26.13)\n",
      "Installing collected packages: pyinstrument-cext, pyinstrument, smdebug\n",
      "Successfully installed pyinstrument-3.4.2 pyinstrument-cext-0.2.4 smdebug-1.0.12\n",
      "\u001b[33mWARNING: Running pip as the 'root' user can result in broken permissions and conflicting behaviour with the system package manager. It is recommended to use a virtual environment instead: https://pip.pypa.io/warnings/venv\u001b[0m\u001b[33m\n",
      "\u001b[0m"
     ]
    }
   ],
   "source": [
    "# TODO: Install any packages that you might need\n",
    "# For instance, you will need the smdebug package\n",
    "!pip install smdebug"
   ]
  },
  {
   "cell_type": "code",
   "execution_count": 3,
   "metadata": {},
   "outputs": [],
   "source": [
    "# TODO: Import any packages that you might need\n",
    "# For instance you will need Boto3 and Sagemaker\n",
    "import sagemaker\n",
    "import boto3\n",
    "\n",
    "\n",
    "import sagemaker\n",
    "from sagemaker.tuner import (\n",
    "    IntegerParameter,\n",
    "    CategoricalParameter,\n",
    "    ContinuousParameter,\n",
    "    HyperparameterTuner,\n",
    ")\n",
    "\n",
    "\n",
    "import boto3\n",
    "import pytest\n",
    "from sagemaker.pytorch import PyTorch\n",
    "from sagemaker import get_execution_role\n",
    "from sagemaker.debugger import (\n",
    "    Rule,\n",
    "    DebuggerHookConfig,\n",
    "    TensorBoardOutputConfig,\n",
    "    CollectionConfig,\n",
    "    rule_configs,\n",
    ")\n",
    "\n",
    "sagemaker_session = sagemaker.Session()\n",
    "\n",
    "bucket = sagemaker_session.default_bucket()\n",
    "prefix = \"sagemaker/PROJECT-pytorch-DOG\"\n",
    "\n",
    "role = sagemaker.get_execution_role()"
   ]
  },
  {
   "cell_type": "markdown",
   "metadata": {},
   "source": [
    "## Dataset\n",
    "TODO: Explain what dataset you are using for this project. Maybe even give a small overview of the classes, class distributions etc that can help anyone not familiar with the dataset get a better understand of it."
   ]
  },
  {
   "cell_type": "code",
   "execution_count": 4,
   "metadata": {},
   "outputs": [],
   "source": [
    "#TODO: Fetch and upload the data to AWS S3\n",
    "\n",
    "# Command to download and unzip data\n",
    "#!wget https://s3-us-west-1.amazonaws.com/udacity-aind/dog-project/dogImages.zip\n",
    "#!unzip dogImages.zip"
   ]
  },
  {
   "cell_type": "code",
   "execution_count": 70,
   "metadata": {
    "tags": []
   },
   "outputs": [
    {
     "name": "stdout",
     "output_type": "stream",
     "text": [
      "test  train  valid\n"
     ]
    }
   ],
   "source": [
    "!ls dogImages"
   ]
  },
  {
   "cell_type": "code",
   "execution_count": 75,
   "metadata": {
    "tags": []
   },
   "outputs": [
    {
     "name": "stdout",
     "output_type": "stream",
     "text": [
      "114.Otterhound\n",
      "110.Norwegian_lundehund\n",
      "127.Silky_terrier\n",
      "091.Japanese_chin\n",
      "095.Kuvasz\n",
      "061.English_cocker_spaniel\n",
      "043.Canaan_dog\n",
      "131.Wirehaired_pointing_griffon\n",
      "124.Poodle\n",
      "087.Irish_terrier\n",
      "053.Cocker_spaniel\n",
      "064.English_toy_spaniel\n",
      "105.Neapolitan_mastiff\n",
      "032.Boston_terrier\n",
      "017.Bearded_collie\n",
      "094.Komondor\n",
      "003.Airedale_terrier\n",
      "084.Icelandic_sheepdog\n",
      "122.Pointer\n",
      "098.Leonberger\n",
      "125.Portuguese_water_dog\n",
      "009.American_water_spaniel\n",
      "058.Dandie_dinmont_terrier\n",
      "115.Papillon\n",
      "006.American_eskimo_dog\n",
      "041.Bullmastiff\n",
      "085.Irish_red_and_white_setter\n",
      "081.Greyhound\n",
      "004.Akita\n",
      "103.Mastiff\n",
      "044.Cane_corso\n",
      "118.Pembroke_welsh_corgi\n",
      "013.Australian_terrier\n",
      "117.Pekingese\n",
      "002.Afghan_hound\n",
      "025.Black_and_tan_coonhound\n",
      "129.Tibetan_mastiff\n",
      "093.Kerry_blue_terrier\n",
      "023.Bernese_mountain_dog\n",
      "070.German_pinscher\n",
      "052.Clumber_spaniel\n",
      "048.Chihuahua\n",
      "088.Irish_water_spaniel\n",
      "050.Chinese_shar-pei\n",
      "106.Newfoundland\n",
      "019.Bedlington_terrier\n",
      "092.Keeshond\n",
      "038.Brussels_griffon\n",
      "108.Norwegian_buhund\n",
      "097.Lakeland_terrier\n",
      "062.English_setter\n",
      "074.Giant_schnauzer\n",
      "123.Pomeranian\n",
      "119.Petit_basset_griffon_vendeen\n",
      "029.Border_collie\n",
      "022.Belgian_tervuren\n",
      "116.Parson_russell_terrier\n",
      "086.Irish_setter\n",
      "133.Yorkshire_terrier\n",
      "010.Anatolian_shepherd_dog\n",
      "120.Pharaoh_hound\n",
      "021.Belgian_sheepdog\n",
      "033.Bouvier_des_flandres\n",
      "066.Field_spaniel\n",
      "113.Old_english_sheepdog\n",
      "060.Dogue_de_bordeaux\n",
      "130.Welsh_springer_spaniel\n",
      "011.Australian_cattle_dog\n",
      "008.American_staffordshire_terrier\n",
      "132.Xoloitzcuintli\n",
      "063.English_springer_spaniel\n",
      "027.Bloodhound\n",
      "047.Chesapeake_bay_retriever\n",
      "051.Chow_chow\n",
      "016.Beagle\n",
      "037.Brittany\n",
      "034.Boxer\n",
      "039.Bull_terrier\n",
      "121.Plott\n",
      "045.Cardigan_welsh_corgi\n",
      "057.Dalmatian\n",
      "073.German_wirehaired_pointer\n",
      "042.Cairn_terrier\n",
      "090.Italian_greyhound\n",
      "035.Boykin_spaniel\n",
      "065.Entlebucher_mountain_dog\n",
      "072.German_shorthaired_pointer\n",
      "107.Norfolk_terrier\n",
      "112.Nova_scotia_duck_tolling_retriever\n",
      "020.Belgian_malinois\n",
      "104.Miniature_schnauzer\n",
      "082.Havanese\n",
      "046.Cavalier_king_charles_spaniel\n",
      "026.Black_russian_terrier\n",
      "067.Finnish_spitz\n",
      "083.Ibizan_hound\n",
      "089.Irish_wolfhound\n",
      "075.Glen_of_imaal_terrier\n",
      "126.Saint_bernard\n",
      "049.Chinese_crested\n",
      "005.Alaskan_malamute\n",
      "015.Basset_hound\n",
      "079.Great_pyrenees\n",
      "096.Labrador_retriever\n",
      "001.Affenpinscher\n",
      "036.Briard\n",
      "101.Maltese\n",
      "080.Greater_swiss_mountain_dog\n",
      "077.Gordon_setter\n",
      "128.Smooth_fox_terrier\n",
      "040.Bulldog\n",
      "069.French_bulldog\n",
      "018.Beauceron\n",
      "055.Curly-coated_retriever\n",
      "099.Lhasa_apso\n",
      "056.Dachshund\n",
      "076.Golden_retriever\n",
      "030.Border_terrier\n",
      "109.Norwegian_elkhound\n",
      "071.German_shepherd_dog\n",
      "012.Australian_shepherd\n",
      "111.Norwich_terrier\n",
      "031.Borzoi\n",
      "028.Bluetick_coonhound\n",
      "102.Manchester_terrier\n",
      "078.Great_dane\n",
      "068.Flat-coated_retriever\n",
      "059.Doberman_pinscher\n",
      "014.Basenji\n",
      "024.Bichon_frise\n",
      "100.Lowchen\n",
      "054.Collie\n",
      "007.American_foxhound\n"
     ]
    }
   ],
   "source": [
    "import os\n",
    "\n",
    "import os\n",
    "\n",
    "def list_dirs(path):\n",
    "    # Get the list of all files and directories in the given path\n",
    "    entries = os.listdir(path)\n",
    "\n",
    "    # Filter out any non-directory entries\n",
    "    dirs = [entry for entry in entries if os.path.isdir(os.path.join(path, entry))]\n",
    "\n",
    "    # Print the directories, separated by newlines\n",
    "    for directory in dirs:\n",
    "        print(directory)\n",
    "        \n",
    "    return dirs\n",
    "\n",
    "dirs = list_dirs(\"dogImages/test\")\n",
    "#print(dirs)"
   ]
  },
  {
   "cell_type": "code",
   "execution_count": 78,
   "metadata": {
    "tags": []
   },
   "outputs": [
    {
     "data": {
      "image/png": "[encoded data removed]",
      "text/plain": [
       "<Figure size 640x480 with 1 Axes>"
      ]
     },
     "metadata": {},
     "output_type": "display_data"
    }
   ],
   "source": [
    "import os\n",
    "import fnmatch\n",
    "import matplotlib.pyplot as plt\n",
    "\n",
    "\n",
    "def count_files(path, pattern):\n",
    "    count = 0\n",
    "    for root, _, files in os.walk(path):\n",
    "        for filename in fnmatch.filter(files, pattern):\n",
    "            count += 1\n",
    "    return count\n",
    "\n",
    "# Example usage: count the number of .jpg files in the given directory and its subdirectories\n",
    "num_jpgs_train = count_files(\"dogImages/train/\", \"*.jpg\")\n",
    "num_jpgs_test = count_files(\"dogImages/test/\", \"*.jpg\")\n",
    "num_jpgs_val = count_files(\"dogImages/valid/\", \"*.jpg\")\n",
    "\n",
    "\n",
    "\n",
    "# Set the labels for the x-axis\n",
    "x_labels = [\"Training set\", \"Validation set\", \"Test set\"]\n",
    "\n",
    "# Set the heights of the bars\n",
    "heights = [num_jpgs_train, num_jpgs_val, num_jpgs_test]\n",
    "\n",
    "# Create the bar plot\n",
    "plt.bar(x_labels, heights)\n",
    "\n",
    "# Show the plot\n",
    "plt.show()\n",
    "\n"
   ]
  },
  {
   "cell_type": "code",
   "execution_count": 80,
   "metadata": {
    "tags": []
   },
   "outputs": [],
   "source": [
    "x_labels = []\n",
    "counts = []\n",
    "\n",
    "for directory in dirs:\n",
    "    path = \"dogImages/test/\" + directory\n",
    "    x_labels.append(directory)\n",
    "    counts.append(count_files(path, \"*.jpg\"))\n",
    "\n",
    "                  \n",
    "    "
   ]
  },
  {
   "cell_type": "code",
   "execution_count": 86,
   "metadata": {
    "tags": []
   },
   "outputs": [
    {
     "data": {
      "image/png": "[encoded data removed]",
      "text/plain": [
       "<Figure size 640x480 with 1 Axes>"
      ]
     },
     "metadata": {},
     "output_type": "display_data"
    }
   ],
   "source": [
    "# Set the colors for the pie chart\n",
    "\n",
    "# Create the pie chart\n",
    "plt.pie(counts, labels=None, startangle=90)\n",
    "\n",
    "# Show the plot\n",
    "plt.title('Class distrbution')\n",
    "plt.show() # The class distribution is pretty homogenous"
   ]
  },
  {
   "cell_type": "code",
   "execution_count": 7,
   "metadata": {
    "tags": []
   },
   "outputs": [
    {
     "name": "stdout",
     "output_type": "stream",
     "text": [
      "input spec (in this case, just an S3 path): s3://sagemaker-us-east-1-447805070819/sagemaker/PROJECT-pytorch-DOG\n"
     ]
    }
   ],
   "source": [
    "inputs = sagemaker_session.upload_data(path=\"dogImages\", bucket=bucket, key_prefix=prefix)\n",
    "print(\"input spec (in this case, just an S3 path): {}\".format(inputs))"
   ]
  },
  {
   "cell_type": "code",
   "execution_count": 5,
   "metadata": {
    "tags": []
   },
   "outputs": [
    {
     "data": {
      "text/plain": [
       "'s3://sagemaker-us-east-1-447805070819/sagemaker/PROJECT-pytorch-DOG'"
      ]
     },
     "execution_count": 5,
     "metadata": {},
     "output_type": "execute_result"
    }
   ],
   "source": [
    "s3_path = \"s3://sagemaker-us-east-1-447805070819/sagemaker/PROJECT-pytorch-DOG\"\n",
    "s3_path"
   ]
  },
  {
   "cell_type": "code",
   "execution_count": 6,
   "metadata": {
    "tags": []
   },
   "outputs": [
    {
     "ename": "NameError",
     "evalue": "name 'inputs' is not defined",
     "output_type": "error",
     "traceback": [
      "\u001b[0;31m---------------------------------------------------------------------------\u001b[0m",
      "\u001b[0;31mNameError\u001b[0m                                 Traceback (most recent call last)",
      "\u001b[0;32m<ipython-input-6-239259da9fd0>\u001b[0m in \u001b[0;36m<module>\u001b[0;34m\u001b[0m\n\u001b[0;32m----> 1\u001b[0;31m \u001b[0mprint\u001b[0m\u001b[0;34m(\u001b[0m\u001b[0minputs\u001b[0m\u001b[0;34m)\u001b[0m\u001b[0;34m\u001b[0m\u001b[0;34m\u001b[0m\u001b[0m\n\u001b[0m",
      "\u001b[0;31mNameError\u001b[0m: name 'inputs' is not defined"
     ]
    }
   ],
   "source": [
    "print(inputs)"
   ]
  },
  {
   "cell_type": "markdown",
   "metadata": {},
   "source": [
    "## Hyperparameter Tuning\n",
    "**TODO:** This is the part where you will finetune a pretrained model with hyperparameter tuning. Remember that you have to tune a minimum of two hyperparameters. However you are encouraged to tune more. You are also encouraged to explain why you chose to tune those particular hyperparameters and the ranges.\n",
    "\n",
    "**Note:** You will need to use the `hpo.py` script to perform hyperparameter tuning."
   ]
  },
  {
   "cell_type": "code",
   "execution_count": 7,
   "metadata": {},
   "outputs": [],
   "source": [
    "#TODO: Declare your HP ranges, metrics etc.\n",
    "\n",
    "\n",
    "hyperparameter_ranges = {\n",
    "    \"learning_rate\": ContinuousParameter(0.001, 0.1),\n",
    "    \"batch_size\": CategoricalParameter([32, 64, 128, 256, 512]),\n",
    "}"
   ]
  },
  {
   "cell_type": "code",
   "execution_count": 8,
   "metadata": {},
   "outputs": [],
   "source": [
    "#TODO: Create estimators for your HPs\n",
    "\n",
    "estimator = PyTorch(\n",
    "    entry_point=\"hpo.py\",\n",
    "    role=role,\n",
    "    py_version='py36',\n",
    "    framework_version=\"1.8\",\n",
    "    instance_count=1,\n",
    "    instance_type=\"ml.p2.xlarge\"\n",
    ")# TODO: Your estimator here\n",
    "\n",
    "\n",
    "objective_metric_name = \"average test loss\"\n",
    "objective_type = \"Minimize\"\n",
    "metric_definitions = [{\"Name\": \"average test loss\", \"Regex\": \"Test set: Average loss: ([0-9\\\\.]+)\"}]\n",
    "\n",
    "tuner =HyperparameterTuner(\n",
    "    estimator,\n",
    "    objective_metric_name,\n",
    "    hyperparameter_ranges,\n",
    "    metric_definitions,\n",
    "    max_jobs=4,\n",
    "    max_parallel_jobs=1,\n",
    "    objective_type=objective_type, \n",
    "    early_stopping_type=\"Auto\"\n",
    ") # TODO: Your HP tuner here\n",
    "\n"
   ]
  },
  {
   "cell_type": "code",
   "execution_count": 9,
   "metadata": {
    "tags": []
   },
   "outputs": [],
   "source": [
    "# test hpo.py\n",
    "#!python hpo.py [-h] [--learning_rate LEARNING_RATE] [--batch_size BATCH_SIZE] [--data DATA] [--model_dir MODEL_DIR] [--output_dir OUTPUT_DIR]"
   ]
  },
  {
   "cell_type": "code",
   "execution_count": 16,
   "metadata": {},
   "outputs": [
    {
     "name": "stderr",
     "output_type": "stream",
     "text": [
      "No finished training job found associated with this estimator. Please make sure this estimator is only used for building workflow config\n",
      "No finished training job found associated with this estimator. Please make sure this estimator is only used for building workflow config\n"
     ]
    },
    {
     "name": "stdout",
     "output_type": "stream",
     "text": [
      "..........................................................................................................................................................................................................................................................................................................................................................!\n"
     ]
    }
   ],
   "source": [
    "# TODO: Fit your HP Tuner\n",
    "import os\n",
    "\n",
    "\n",
    "os.environ['SM_CHANNEL_TRAINING']='s3://sagemaker-us-east-1-447805070819/sagemaker/PROJECT-pytorch-DOG/'\n",
    "os.environ['SM_MODEL_DIR']='s3://sagemaker-us-east-1-447805070819/model/'\n",
    "os.environ['SM_OUTPUT_DATA_DIR']='s3://sagemaker-us-east-1-447805070819/output/'\n",
    "#tuner.fit({\"training\": \"s3://sagemaker-us-east-1-447805070819/dogImages/\"})\n",
    "\n",
    "tuner.fit({\"training\": s3_path}) # TODO: Remember to include your data channels"
   ]
  },
  {
   "cell_type": "code",
   "execution_count": 17,
   "metadata": {},
   "outputs": [
    {
     "name": "stdout",
     "output_type": "stream",
     "text": [
      "\n",
      "2022-12-24 17:26:14 Starting - Preparing the instances for training\n",
      "2022-12-24 17:26:14 Downloading - Downloading input data\n",
      "2022-12-24 17:26:14 Training - Training image download completed. Training in progress.\n",
      "2022-12-24 17:26:14 Uploading - Uploading generated training model\n",
      "2022-12-24 17:26:14 Completed - Resource reused by training job: pytorch-training-221224-1708-002-204c8721\n"
     ]
    },
    {
     "data": {
      "text/plain": [
       "{'_tuning_objective_metric': '\"average test loss\"',\n",
       " 'batch_size': '\"128\"',\n",
       " 'learning_rate': '0.03087708635920261',\n",
       " 'sagemaker_container_log_level': '20',\n",
       " 'sagemaker_estimator_class_name': '\"PyTorch\"',\n",
       " 'sagemaker_estimator_module': '\"sagemaker.pytorch.estimator\"',\n",
       " 'sagemaker_job_name': '\"pytorch-training-2022-12-24-17-08-50-491\"',\n",
       " 'sagemaker_program': '\"hpo.py\"',\n",
       " 'sagemaker_region': '\"us-east-1\"',\n",
       " 'sagemaker_submit_directory': '\"s3://sagemaker-us-east-1-447805070819/pytorch-training-2022-12-24-17-08-50-491/source/sourcedir.tar.gz\"'}"
      ]
     },
     "execution_count": 17,
     "metadata": {},
     "output_type": "execute_result"
    }
   ],
   "source": [
    "# TODO: Get the best estimators and the best HPs\n",
    "\n",
    "best_estimator = tuner.best_estimator() #TODO\n",
    "\n",
    "#Get the hyperparameters of the best trained model\n",
    "best_estimator.hyperparameters()"
   ]
  },
  {
   "cell_type": "markdown",
   "metadata": {},
   "source": [
    "## Results\n",
    "2022-12-24 17:26:14 Starting - Preparing the instances for training\n",
    "2022-12-24 17:26:14 Downloading - Downloading input data\n",
    "2022-12-24 17:26:14 Training - Training image download completed. Training in progress.\n",
    "2022-12-24 17:26:14 Uploading - Uploading generated training model\n",
    "2022-12-24 17:26:14 Completed - Resource reused by training job: pytorch-training-221224-1708-002-204c8721\n",
    "{'_tuning_objective_metric': '\"average test loss\"',\n",
    " 'batch_size': '\"128\"',\n",
    " 'learning_rate': '0.03087708635920261',\n",
    " 'sagemaker_container_log_level': '20',\n",
    " 'sagemaker_estimator_class_name': '\"PyTorch\"',\n",
    " 'sagemaker_estimator_module': '\"sagemaker.pytorch.estimator\"',\n",
    " 'sagemaker_job_name': '\"pytorch-training-2022-12-24-17-08-50-491\"',\n",
    " 'sagemaker_program': '\"hpo.py\"',\n",
    " 'sagemaker_region': '\"us-east-1\"',\n",
    " 'sagemaker_submit_directory': '\"s3://sagemaker-us-east-1-447805070819/pytorch-training-2022-12-24-17-08-50-491/source/sourcedir.tar.gz\"'}"
   ]
  },
  {
   "cell_type": "markdown",
   "metadata": {},
   "source": [
    "## Model Profiling and Debugging\n",
    "TODO: Using the best hyperparameters, create and finetune a new model\n",
    "\n",
    "**Note:** You will need to use the `train_model.py` script to perform model profiling and debugging."
   ]
  },
  {
   "cell_type": "code",
   "execution_count": 19,
   "metadata": {
    "tags": []
   },
   "outputs": [],
   "source": [
    "from sagemaker.debugger import (\n",
    "    Rule,\n",
    "    rule_configs, \n",
    "    ProfilerRule,\n",
    "    DebuggerHookConfig,\n",
    "    CollectionConfig,\n",
    "    ProfilerConfig,\n",
    "    FrameworkProfile\n",
    ")"
   ]
  },
  {
   "cell_type": "code",
   "execution_count": 26,
   "metadata": {},
   "outputs": [],
   "source": [
    "# TODO: Set up debugging and profiling rules and hooks\n",
    "rules = [\n",
    "    Rule.sagemaker(rule_configs.loss_not_decreasing()),\n",
    "    ProfilerRule.sagemaker(rule_configs.LowGPUUtilization()),\n",
    "    ProfilerRule.sagemaker(rule_configs.ProfilerReport()),\n",
    "    Rule.sagemaker(rule_configs.overfit()),\n",
    "    Rule.sagemaker(rule_configs.overtraining()),\n",
    "]\n",
    "\n",
    "profiler_config = ProfilerConfig(\n",
    "    system_monitor_interval_millis=500, framework_profile_params=FrameworkProfile(num_steps=10)\n",
    ")\n",
    "debugger_config = DebuggerHookConfig(\n",
    "    hook_parameters={\"train.save_interval\": \"100\", \"eval.save_interval\": \"10\"}\n",
    ")"
   ]
  },
  {
   "cell_type": "code",
   "execution_count": 64,
   "metadata": {
    "tags": []
   },
   "outputs": [
    {
     "name": "stdout",
     "output_type": "stream",
     "text": [
      "{'batch_size': 128, 'learning_rate': '0.03087708635920261'}\n"
     ]
    }
   ],
   "source": [
    "print({'batch_size': int(best_estimator.hyperparameters()['batch_size'].replace('\"', \"\")),\n",
    "                      'learning_rate': best_estimator.hyperparameters()['learning_rate']})"
   ]
  },
  {
   "cell_type": "code",
   "execution_count": 30,
   "metadata": {},
   "outputs": [
    {
     "name": "stdout",
     "output_type": "stream",
     "text": [
      "2022-12-24 18:13:58 Starting - Starting the training job...\n",
      "2022-12-24 18:14:27 Starting - Preparing the instances for trainingLossNotDecreasing: InProgress\n",
      "Overfit: InProgress\n",
      "Overtraining: InProgress\n",
      "LowGPUUtilization: InProgress\n",
      "ProfilerReport: InProgress\n",
      "............\n",
      "2022-12-24 18:16:28 Downloading - Downloading input data...\n",
      "2022-12-24 18:16:57 Training - Downloading the training image...............\n",
      "2022-12-24 18:19:29 Training - Training image download completed. Training in progress...\u001b[34mbash: cannot set terminal process group (-1): Inappropriate ioctl for device\u001b[0m\n",
      "\u001b[34mbash: no job control in this shell\u001b[0m\n",
      "\u001b[34m2022-12-24 18:19:38,885 sagemaker-training-toolkit INFO     Imported framework sagemaker_pytorch_container.training\u001b[0m\n",
      "\u001b[34m2022-12-24 18:19:38,913 sagemaker_pytorch_container.training INFO     Block until all host DNS lookups succeed.\u001b[0m\n",
      "\u001b[34m2022-12-24 18:19:38,915 sagemaker_pytorch_container.training INFO     Invoking user training script.\u001b[0m\n",
      "\u001b[34m2022-12-24 18:19:39,190 sagemaker-training-toolkit INFO     Invoking user script\u001b[0m\n",
      "\u001b[34mTraining Env:\u001b[0m\n",
      "\u001b[34m{\n",
      "    \"additional_framework_parameters\": {},\n",
      "    \"channel_input_dirs\": {\n",
      "        \"training\": \"/opt/ml/input/data/training\"\n",
      "    },\n",
      "    \"current_host\": \"algo-1\",\n",
      "    \"framework_module\": \"sagemaker_pytorch_container.training:main\",\n",
      "    \"hosts\": [\n",
      "        \"algo-1\"\n",
      "    ],\n",
      "    \"hyperparameters\": {\n",
      "        \"batch_size\": 128,\n",
      "        \"learning_rate\": \"0.03087708635920261\"\n",
      "    },\n",
      "    \"input_config_dir\": \"/opt/ml/input/config\",\n",
      "    \"input_data_config\": {\n",
      "        \"training\": {\n",
      "            \"TrainingInputMode\": \"File\",\n",
      "            \"S3DistributionType\": \"FullyReplicated\",\n",
      "            \"RecordWrapperType\": \"None\"\n",
      "        }\n",
      "    },\n",
      "    \"input_dir\": \"/opt/ml/input\",\n",
      "    \"is_master\": true,\n",
      "    \"job_name\": \"pytorch-training-2022-12-24-18-13-58-206\",\n",
      "    \"log_level\": 20,\n",
      "    \"master_hostname\": \"algo-1\",\n",
      "    \"model_dir\": \"/opt/ml/model\",\n",
      "    \"module_dir\": \"s3://sagemaker-us-east-1-447805070819/pytorch-training-2022-12-24-18-13-58-206/source/sourcedir.tar.gz\",\n",
      "    \"module_name\": \"train_model\",\n",
      "    \"network_interface_name\": \"eth0\",\n",
      "    \"num_cpus\": 8,\n",
      "    \"num_gpus\": 1,\n",
      "    \"output_data_dir\": \"/opt/ml/output/data\",\n",
      "    \"output_dir\": \"/opt/ml/output\",\n",
      "    \"output_intermediate_dir\": \"/opt/ml/output/intermediate\",\n",
      "    \"resource_config\": {\n",
      "        \"current_host\": \"algo-1\",\n",
      "        \"current_instance_type\": \"ml.p3.2xlarge\",\n",
      "        \"current_group_name\": \"homogeneousCluster\",\n",
      "        \"hosts\": [\n",
      "            \"algo-1\"\n",
      "        ],\n",
      "        \"instance_groups\": [\n",
      "            {\n",
      "                \"instance_group_name\": \"homogeneousCluster\",\n",
      "                \"instance_type\": \"ml.p3.2xlarge\",\n",
      "                \"hosts\": [\n",
      "                    \"algo-1\"\n",
      "                ]\n",
      "            }\n",
      "        ],\n",
      "        \"network_interface_name\": \"eth0\"\n",
      "    },\n",
      "    \"user_entry_point\": \"train_model.py\"\u001b[0m\n",
      "\u001b[34m}\u001b[0m\n",
      "\u001b[34mEnvironment variables:\u001b[0m\n",
      "\u001b[34mSM_HOSTS=[\"algo-1\"]\u001b[0m\n",
      "\u001b[34mSM_NETWORK_INTERFACE_NAME=eth0\u001b[0m\n",
      "\u001b[34mSM_HPS={\"batch_size\":128,\"learning_rate\":\"0.03087708635920261\"}\u001b[0m\n",
      "\u001b[34mSM_USER_ENTRY_POINT=train_model.py\u001b[0m\n",
      "\u001b[34mSM_FRAMEWORK_PARAMS={}\u001b[0m\n",
      "\u001b[34mSM_RESOURCE_CONFIG={\"current_group_name\":\"homogeneousCluster\",\"current_host\":\"algo-1\",\"current_instance_type\":\"ml.p3.2xlarge\",\"hosts\":[\"algo-1\"],\"instance_groups\":[{\"hosts\":[\"algo-1\"],\"instance_group_name\":\"homogeneousCluster\",\"instance_type\":\"ml.p3.2xlarge\"}],\"network_interface_name\":\"eth0\"}\u001b[0m\n",
      "\u001b[34mSM_INPUT_DATA_CONFIG={\"training\":{\"RecordWrapperType\":\"None\",\"S3DistributionType\":\"FullyReplicated\",\"TrainingInputMode\":\"File\"}}\u001b[0m\n",
      "\u001b[34mSM_OUTPUT_DATA_DIR=/opt/ml/output/data\u001b[0m\n",
      "\u001b[34mSM_CHANNELS=[\"training\"]\u001b[0m\n",
      "\u001b[34mSM_CURRENT_HOST=algo-1\u001b[0m\n",
      "\u001b[34mSM_MODULE_NAME=train_model\u001b[0m\n",
      "\u001b[34mSM_LOG_LEVEL=20\u001b[0m\n",
      "\u001b[34mSM_FRAMEWORK_MODULE=sagemaker_pytorch_container.training:main\u001b[0m\n",
      "\u001b[34mSM_INPUT_DIR=/opt/ml/input\u001b[0m\n",
      "\u001b[34mSM_INPUT_CONFIG_DIR=/opt/ml/input/config\u001b[0m\n",
      "\u001b[34mSM_OUTPUT_DIR=/opt/ml/output\u001b[0m\n",
      "\u001b[34mSM_NUM_CPUS=8\u001b[0m\n",
      "\u001b[34mSM_NUM_GPUS=1\u001b[0m\n",
      "\u001b[34mSM_MODEL_DIR=/opt/ml/model\u001b[0m\n",
      "\u001b[34mSM_MODULE_DIR=s3://sagemaker-us-east-1-447805070819/pytorch-training-2022-12-24-18-13-58-206/source/sourcedir.tar.gz\u001b[0m\n",
      "\u001b[34mSM_TRAINING_ENV={\"additional_framework_parameters\":{},\"channel_input_dirs\":{\"training\":\"/opt/ml/input/data/training\"},\"current_host\":\"algo-1\",\"framework_module\":\"sagemaker_pytorch_container.training:main\",\"hosts\":[\"algo-1\"],\"hyperparameters\":{\"batch_size\":128,\"learning_rate\":\"0.03087708635920261\"},\"input_config_dir\":\"/opt/ml/input/config\",\"input_data_config\":{\"training\":{\"RecordWrapperType\":\"None\",\"S3DistributionType\":\"FullyReplicated\",\"TrainingInputMode\":\"File\"}},\"input_dir\":\"/opt/ml/input\",\"is_master\":true,\"job_name\":\"pytorch-training-2022-12-24-18-13-58-206\",\"log_level\":20,\"master_hostname\":\"algo-1\",\"model_dir\":\"/opt/ml/model\",\"module_dir\":\"s3://sagemaker-us-east-1-447805070819/pytorch-training-2022-12-24-18-13-58-206/source/sourcedir.tar.gz\",\"module_name\":\"train_model\",\"network_interface_name\":\"eth0\",\"num_cpus\":8,\"num_gpus\":1,\"output_data_dir\":\"/opt/ml/output/data\",\"output_dir\":\"/opt/ml/output\",\"output_intermediate_dir\":\"/opt/ml/output/intermediate\",\"resource_config\":{\"current_group_name\":\"homogeneousCluster\",\"current_host\":\"algo-1\",\"current_instance_type\":\"ml.p3.2xlarge\",\"hosts\":[\"algo-1\"],\"instance_groups\":[{\"hosts\":[\"algo-1\"],\"instance_group_name\":\"homogeneousCluster\",\"instance_type\":\"ml.p3.2xlarge\"}],\"network_interface_name\":\"eth0\"},\"user_entry_point\":\"train_model.py\"}\u001b[0m\n",
      "\u001b[34mSM_USER_ARGS=[\"--batch_size\",\"128\",\"--learning_rate\",\"0.03087708635920261\"]\u001b[0m\n",
      "\u001b[34mSM_OUTPUT_INTERMEDIATE_DIR=/opt/ml/output/intermediate\u001b[0m\n",
      "\u001b[34mSM_CHANNEL_TRAINING=/opt/ml/input/data/training\u001b[0m\n",
      "\u001b[34mSM_HP_BATCH_SIZE=128\u001b[0m\n",
      "\u001b[34mSM_HP_LEARNING_RATE=0.03087708635920261\u001b[0m\n",
      "\u001b[34mPYTHONPATH=/opt/ml/code:/opt/conda/bin:/opt/conda/lib/python36.zip:/opt/conda/lib/python3.6:/opt/conda/lib/python3.6/lib-dynload:/opt/conda/lib/python3.6/site-packages\u001b[0m\n",
      "\u001b[34mInvoking script with the following command:\u001b[0m\n",
      "\u001b[34m/opt/conda/bin/python3.6 train_model.py --batch_size 128 --learning_rate 0.03087708635920261\u001b[0m\n",
      "\u001b[34m[2022-12-24 18:19:40.634 algo-1:27 INFO utils.py:27] RULE_JOB_STOP_SIGNAL_FILENAME: None\u001b[0m\n",
      "\u001b[34m[2022-12-24 18:19:40.679 algo-1:27 INFO profiler_config_parser.py:102] Using config at /opt/ml/input/config/profilerconfig.json.\u001b[0m\n",
      "\u001b[34mTrain_loader size: 53, Valid_loader size: 7, test_loader size: 7\u001b[0m\n",
      "\u001b[34m[2022-12-24 18:19:46.807 algo-1:27 INFO json_config.py:91] Creating hook from json_config at /opt/ml/input/config/debughookconfig.json.\u001b[0m\n",
      "\u001b[34m[2022-12-24 18:19:46.809 algo-1:27 INFO hook.py:201] tensorboard_dir has not been set for the hook. SMDebug will not be exporting tensorboard summaries.\u001b[0m\n",
      "\u001b[34m[2022-12-24 18:19:46.810 algo-1:27 INFO hook.py:255] Saving to /opt/ml/output/tensors\u001b[0m\n",
      "\u001b[34m[2022-12-24 18:19:46.811 algo-1:27 INFO state_store.py:77] The checkpoint config file /opt/ml/input/config/checkpointconfig.json does not exist.\u001b[0m\n",
      "\u001b[34m[2022-12-24 18:19:48.895 algo-1:27 INFO hook.py:591] name:fc.weight count_params:272384\u001b[0m\n",
      "\u001b[34m[2022-12-24 18:19:48.895 algo-1:27 INFO hook.py:591] name:fc.bias count_params:133\u001b[0m\n",
      "\u001b[34m[2022-12-24 18:19:48.896 algo-1:27 INFO hook.py:593] Total Trainable Params: 272517\u001b[0m\n",
      "\u001b[34m[2022-12-24 18:19:48.896 algo-1:27 INFO hook.py:425] Monitoring the collections: losses\u001b[0m\n",
      "\u001b[34m[2022-12-24 18:19:48.898 algo-1:27 INFO python_profiler.py:182] Dumping cProfile stats to /opt/ml/output/profiler/framework/pytorch/cprofile/27-algo-1/prestepzero-*-start-1671905980680096.8_train-0-stepstart-1671905988898107.0/python_stats.\u001b[0m\n",
      "\u001b[34m[2022-12-24 18:19:48.918 algo-1:27 INFO hook.py:488] Hook is writing from the hook with pid: 27\u001b[0m\n",
      "\u001b[34m[2022-12-24 18:19:50.542 algo-1:27 INFO python_profiler.py:182] Dumping cProfile stats to /opt/ml/output/profiler/framework/pytorch/cprofile/27-algo-1/train-0-stepstart-1671905988912844.2_train-0-forwardpassend-1671905990541968.0/python_stats.\u001b[0m\n",
      "\u001b[34mTrain Epoch: 1 [0/6680 (0%)]#011 Loss: 4.952808\u001b[0m\n",
      "\u001b[34m[2022-12-24 18:19:50.611 algo-1:27 INFO python_profiler.py:182] Dumping cProfile stats to /opt/ml/output/profiler/framework/pytorch/cprofile/27-algo-1/train-0-forwardpassend-1671905990544670.5_train-1-stepstart-1671905990610260.8/python_stats.\u001b[0m\n",
      "\u001b[34m[2022-12-24 18:19:51.366 algo-1:27 INFO python_profiler.py:182] Dumping cProfile stats to /opt/ml/output/profiler/framework/pytorch/cprofile/27-algo-1/train-1-stepstart-1671905990615311.5_train-1-forwardpassend-1671905991366213.8/python_stats.\u001b[0m\n",
      "\u001b[34m[2022-12-24 18:19:51.446 algo-1:27 INFO python_profiler.py:182] Dumping cProfile stats to /opt/ml/output/profiler/framework/pytorch/cprofile/27-algo-1/train-1-forwardpassend-1671905991369128.5_train-2-stepstart-1671905991445194.5/python_stats.\u001b[0m\n",
      "\u001b[34m[2022-12-24 18:19:52.143 algo-1:27 INFO python_profiler.py:182] Dumping cProfile stats to /opt/ml/output/profiler/framework/pytorch/cprofile/27-algo-1/train-2-stepstart-1671905991450249.2_train-2-forwardpassend-1671905992142614.5/python_stats.\u001b[0m\n",
      "\u001b[34m[2022-12-24 18:19:52.225 algo-1:27 INFO python_profiler.py:182] Dumping cProfile stats to /opt/ml/output/profiler/framework/pytorch/cprofile/27-algo-1/train-2-forwardpassend-1671905992144613.2_train-3-stepstart-1671905992224803.8/python_stats.\u001b[0m\n",
      "\u001b[34m[2022-12-24 18:19:52.882 algo-1:27 INFO python_profiler.py:182] Dumping cProfile stats to /opt/ml/output/profiler/framework/pytorch/cprofile/27-algo-1/train-3-stepstart-1671905992227630.5_train-3-forwardpassend-1671905992881837.8/python_stats.\u001b[0m\n",
      "\u001b[34m[2022-12-24 18:19:52.960 algo-1:27 INFO python_profiler.py:182] Dumping cProfile stats to /opt/ml/output/profiler/framework/pytorch/cprofile/27-algo-1/train-3-forwardpassend-1671905992883862.8_train-4-stepstart-1671905992959996.5/python_stats.\u001b[0m\n",
      "\u001b[34m[2022-12-24 18:19:53.705 algo-1:27 INFO python_profiler.py:182] Dumping cProfile stats to /opt/ml/output/profiler/framework/pytorch/cprofile/27-algo-1/train-4-stepstart-1671905992964360.5_train-4-forwardpassend-1671905993705203.2/python_stats.\u001b[0m\n",
      "\u001b[34m[2022-12-24 18:19:53.785 algo-1:27 INFO python_profiler.py:182] Dumping cProfile stats to /opt/ml/output/profiler/framework/pytorch/cprofile/27-algo-1/train-4-forwardpassend-1671905993707516.2_train-5-stepstart-1671905993784333.8/python_stats.\u001b[0m\n",
      "\u001b[34m[2022-12-24 18:19:54.535 algo-1:27 INFO python_profiler.py:182] Dumping cProfile stats to /opt/ml/output/profiler/framework/pytorch/cprofile/27-algo-1/train-5-stepstart-1671905993788684.2_train-5-forwardpassend-1671905994534577.2/python_stats.\u001b[0m\n",
      "\u001b[34m[2022-12-24 18:19:55.227 algo-1:27 INFO python_profiler.py:182] Dumping cProfile stats to /opt/ml/output/profiler/framework/pytorch/cprofile/27-algo-1/train-5-forwardpassend-1671905994537134.5_train-6-stepstart-1671905995226497.8/python_stats.\u001b[0m\n",
      "\u001b[34m[2022-12-24 18:19:55.880 algo-1:27 INFO python_profiler.py:182] Dumping cProfile stats to /opt/ml/output/profiler/framework/pytorch/cprofile/27-algo-1/train-6-stepstart-1671905995230482.2_train-6-forwardpassend-1671905995880189.5/python_stats.\u001b[0m\n",
      "\u001b[34m[2022-12-24 18:19:55.966 algo-1:27 INFO python_profiler.py:182] Dumping cProfile stats to /opt/ml/output/profiler/framework/pytorch/cprofile/27-algo-1/train-6-forwardpassend-1671905995882259.0_train-7-stepstart-1671905995965232.0/python_stats.\u001b[0m\n",
      "\u001b[34m[2022-12-24 18:19:56.644 algo-1:27 INFO python_profiler.py:182] Dumping cProfile stats to /opt/ml/output/profiler/framework/pytorch/cprofile/27-algo-1/train-7-stepstart-1671905995968075.2_train-7-forwardpassend-1671905996643647.5/python_stats.\u001b[0m\n",
      "\u001b[34m[2022-12-24 18:19:56.911 algo-1:27 INFO python_profiler.py:182] Dumping cProfile stats to /opt/ml/output/profiler/framework/pytorch/cprofile/27-algo-1/train-7-forwardpassend-1671905996645758.5_train-8-stepstart-1671905996910290.0/python_stats.\u001b[0m\n",
      "\u001b[34m[2022-12-24 18:19:57.627 algo-1:27 INFO python_profiler.py:182] Dumping cProfile stats to /opt/ml/output/profiler/framework/pytorch/cprofile/27-algo-1/train-8-stepstart-1671905996914256.2_train-8-forwardpassend-1671905997626722.2/python_stats.\u001b[0m\n",
      "\u001b[34m[2022-12-24 18:19:57.706 algo-1:27 INFO python_profiler.py:182] Dumping cProfile stats to /opt/ml/output/profiler/framework/pytorch/cprofile/27-algo-1/train-8-forwardpassend-1671905997628830.2_train-9-stepstart-1671905997706061.8/python_stats.\u001b[0m\n",
      "\u001b[34m[2022-12-24 18:19:58.372 algo-1:27 INFO python_profiler.py:182] Dumping cProfile stats to /opt/ml/output/profiler/framework/pytorch/cprofile/27-algo-1/train-9-stepstart-1671905997708713.5_train-9-forwardpassend-1671905998372300.8/python_stats.\u001b[0m\n",
      "\u001b[34m[2022-12-24 18:19:58.681 algo-1:27 INFO python_profiler.py:182] Dumping cProfile stats to /opt/ml/output/profiler/framework/pytorch/cprofile/27-algo-1/train-9-forwardpassend-1671905998374518.0_train-10-stepstart-1671905998680555.2/python_stats.\u001b[0m\n",
      "\u001b[34mTrain Epoch: 1 [1280/6680 (19%)]#011 Loss: 4.226975\u001b[0m\n",
      "\u001b[34mTrain Epoch: 1 [2560/6680 (38%)]#011 Loss: 2.861368\u001b[0m\n",
      "\u001b[34mTrain Epoch: 1 [3840/6680 (57%)]#011 Loss: 2.336370\u001b[0m\n",
      "\u001b[34mTrain Epoch: 1 [5120/6680 (75%)]#011 Loss: 1.682626\u001b[0m\n",
      "\u001b[34mTrain Epoch: 1 [6400/6680 (94%)]#011 Loss: 1.531221\u001b[0m\n",
      "\u001b[34mTest set: Average loss: 0.0079, Accuracy: 621/836 (74%)\u001b[0m\n",
      "\u001b[34mTrain Epoch: 2 [0/6680 (0%)]#011 Loss: 1.351980\u001b[0m\n",
      "\u001b[34mTrain Epoch: 2 [1280/6680 (19%)]#011 Loss: 1.052753\u001b[0m\n",
      "\u001b[34mTrain Epoch: 2 [2560/6680 (38%)]#011 Loss: 1.147455\u001b[0m\n",
      "\u001b[34mTrain Epoch: 2 [3840/6680 (57%)]#011 Loss: 1.384138\u001b[0m\n",
      "\u001b[34mTrain Epoch: 2 [5120/6680 (75%)]#011 Loss: 1.040079\u001b[0m\n",
      "\u001b[34mTrain Epoch: 2 [6400/6680 (94%)]#011 Loss: 1.015553\u001b[0m\n",
      "\u001b[34mTest set: Average loss: 0.0053, Accuracy: 694/836 (83%)\u001b[0m\n",
      "\u001b[34mTrain Epoch: 3 [0/6680 (0%)]#011 Loss: 1.009326\u001b[0m\n",
      "\u001b[34mTrain Epoch: 3 [1280/6680 (19%)]#011 Loss: 0.817779\u001b[0m\n",
      "\u001b[34mTrain Epoch: 3 [2560/6680 (38%)]#011 Loss: 0.871907\u001b[0m\n",
      "\u001b[34mTrain Epoch: 3 [3840/6680 (57%)]#011 Loss: 0.932666\u001b[0m\n",
      "\u001b[34mTrain Epoch: 3 [5120/6680 (75%)]#011 Loss: 0.671333\u001b[0m\n",
      "\u001b[34mTrain Epoch: 3 [6400/6680 (94%)]#011 Loss: 0.945521\u001b[0m\n",
      "\u001b[34mTest set: Average loss: 0.0045, Accuracy: 711/836 (85%)\u001b[0m\n",
      "\u001b[34mTrain Epoch: 4 [0/6680 (0%)]#011 Loss: 0.956905\u001b[0m\n",
      "\u001b[34mTrain Epoch: 4 [1280/6680 (19%)]#011 Loss: 0.981577\u001b[0m\n",
      "\u001b[34mTrain Epoch: 4 [2560/6680 (38%)]#011 Loss: 0.876493\u001b[0m\n",
      "\u001b[34mTrain Epoch: 4 [3840/6680 (57%)]#011 Loss: 0.805405\u001b[0m\n",
      "\u001b[34mTrain Epoch: 4 [5120/6680 (75%)]#011 Loss: 0.753651\u001b[0m\n",
      "\u001b[34mTrain Epoch: 4 [6400/6680 (94%)]#011 Loss: 0.717004\u001b[0m\n",
      "\u001b[34mTest set: Average loss: 0.0042, Accuracy: 710/836 (85%)\u001b[0m\n",
      "\u001b[34mTrain Epoch: 5 [0/6680 (0%)]#011 Loss: 0.649536\u001b[0m\n",
      "\u001b[34mTrain Epoch: 5 [1280/6680 (19%)]#011 Loss: 0.809360\u001b[0m\n",
      "\u001b[34mTrain Epoch: 5 [2560/6680 (38%)]#011 Loss: 0.904704\u001b[0m\n",
      "\u001b[34mTrain Epoch: 5 [3840/6680 (57%)]#011 Loss: 0.741636\u001b[0m\n",
      "\u001b[34mTrain Epoch: 5 [5120/6680 (75%)]#011 Loss: 0.690952\u001b[0m\n",
      "\u001b[34mTrain Epoch: 5 [6400/6680 (94%)]#011 Loss: 0.686455\u001b[0m\n",
      "\u001b[34mTest set: Average loss: 0.0040, Accuracy: 720/836 (86%)\u001b[0m\n",
      "\u001b[34mTrain Epoch: 6 [0/6680 (0%)]#011 Loss: 0.836604\u001b[0m\n",
      "\u001b[34mTrain Epoch: 6 [1280/6680 (19%)]#011 Loss: 0.796851\u001b[0m\n",
      "\u001b[34mTrain Epoch: 6 [2560/6680 (38%)]#011 Loss: 0.879625\u001b[0m\n",
      "\u001b[34mTrain Epoch: 6 [3840/6680 (57%)]#011 Loss: 0.911450\u001b[0m\n",
      "\u001b[34mTrain Epoch: 6 [5120/6680 (75%)]#011 Loss: 0.646913\u001b[0m\n",
      "\u001b[34mTrain Epoch: 6 [6400/6680 (94%)]#011 Loss: 0.604051\u001b[0m\n",
      "\u001b[34mTest set: Average loss: 0.0041, Accuracy: 717/836 (86%)\u001b[0m\n",
      "\u001b[34mTrain Epoch: 7 [0/6680 (0%)]#011 Loss: 0.740088\u001b[0m\n",
      "\u001b[34mTrain Epoch: 7 [1280/6680 (19%)]#011 Loss: 0.666522\u001b[0m\n",
      "\u001b[34mTrain Epoch: 7 [2560/6680 (38%)]#011 Loss: 0.636259\u001b[0m\n",
      "\u001b[34mTrain Epoch: 7 [3840/6680 (57%)]#011 Loss: 0.735982\u001b[0m\n",
      "\u001b[34mTrain Epoch: 7 [5120/6680 (75%)]#011 Loss: 0.797513\u001b[0m\n",
      "\u001b[34mTrain Epoch: 7 [6400/6680 (94%)]#011 Loss: 0.719712\u001b[0m\n",
      "\u001b[34mTest set: Average loss: 0.0034, Accuracy: 734/836 (88%)\u001b[0m\n",
      "\u001b[34mTrain Epoch: 8 [0/6680 (0%)]#011 Loss: 0.632792\u001b[0m\n",
      "\u001b[34mTrain Epoch: 8 [1280/6680 (19%)]#011 Loss: 0.552319\u001b[0m\n",
      "\u001b[34mTrain Epoch: 8 [2560/6680 (38%)]#011 Loss: 0.685400\u001b[0m\n",
      "\u001b[34mTrain Epoch: 8 [3840/6680 (57%)]#011 Loss: 0.813667\u001b[0m\n",
      "\u001b[34mTrain Epoch: 8 [5120/6680 (75%)]#011 Loss: 0.596108\u001b[0m\n",
      "\u001b[34mTrain Epoch: 8 [6400/6680 (94%)]#011 Loss: 0.507264\u001b[0m\n",
      "\u001b[34mTest set: Average loss: 0.0033, Accuracy: 743/836 (89%)\u001b[0m\n",
      "\u001b[34mTrain Epoch: 9 [0/6680 (0%)]#011 Loss: 0.661093\u001b[0m\n",
      "LowGPUUtilization: IssuesFound\n",
      "ProfilerReport: InProgress\n",
      "\u001b[34mTrain Epoch: 9 [1280/6680 (19%)]#011 Loss: 0.573918\u001b[0m\n",
      "\u001b[34mTrain Epoch: 9 [2560/6680 (38%)]#011 Loss: 0.839177\u001b[0m\n",
      "\u001b[34mTrain Epoch: 9 [3840/6680 (57%)]#011 Loss: 0.622755\u001b[0m\n",
      "\u001b[34mTrain Epoch: 9 [5120/6680 (75%)]#011 Loss: 0.612213\u001b[0m\n",
      "\u001b[34mTrain Epoch: 9 [6400/6680 (94%)]#011 Loss: 0.597847\u001b[0m\n",
      "\u001b[34mTest set: Average loss: 0.0035, Accuracy: 732/836 (88%)\u001b[0m\n",
      "\u001b[34mDownloading: \"https://download.pytorch.org/models/resnet50-19c8e357.pth\" to /root/.cache/torch/hub/checkpoints/resnet50-19c8e357.pth\u001b[0m\n",
      "\u001b[34m#015  0%|          | 0.00/97.8M [00:00<?, ?B/s]#015  6%|▌         | 5.48M/97.8M [00:00<00:01, 57.4MB/s]#015 11%|█▏        | 11.2M/97.8M [00:00<00:01, 58.7MB/s]#015 17%|█▋        | 16.9M/97.8M [00:00<00:01, 59.4MB/s]#015 23%|██▎       | 22.6M/97.8M [00:00<00:01, 59.7MB/s]#015 29%|██▉       | 28.4M/97.8M [00:00<00:01, 59.9MB/s]#015 35%|███▍      | 34.2M/97.8M [00:00<00:01, 60.1MB/s]#015 41%|████      | 39.9M/97.8M [00:00<00:01, 60.2MB/s]#015 47%|████▋     | 45.7M/97.8M [00:00<00:00, 60.4MB/s]#015 53%|█████▎    | 51.5M/97.8M [00:00<00:00, 60.5MB/s]#015 59%|█████▊    | 57.3M/97.8M [00:01<00:00, 60.3MB/s]#015 65%|██████▍   | 63.1M/97.8M [00:01<00:00, 60.5MB/s]#015 70%|███████   | 68.9M/97.8M [00:01<00:00, 60.5MB/s]#015 76%|███████▋  | 74.7M/97.8M [00:01<00:00, 60.5MB/s]#015 82%|████████▏ | 80.5M/97.8M [00:01<00:00, 60.8MB/s]#015 88%|████████▊ | 86.3M/97.8M [00:01<00:00, 60.8MB/s]#015 94%|█████████▍| 92.2M/97.8M [00:01<00:00, 60.9MB/s]#015100%|██████████| 97.8M/97.8M [00:01<00:00, 60.4MB/s]\u001b[0m\n",
      "\u001b[34mINFO:__main__:Train_loader size: 53, Valid_loader size: 7, test_loader size: 7\u001b[0m\n",
      "\u001b[34m2022-12-24 18:26:58,953 sagemaker-training-toolkit INFO     Reporting training SUCCESS\u001b[0m\n",
      "\n",
      "2022-12-24 18:27:32 Uploading - Uploading generated training model\n",
      "2022-12-24 18:27:32 Completed - Training job completed\n",
      "LossNotDecreasing: NoIssuesFound\n",
      "Overfit: NoIssuesFound\n",
      "Overtraining: NoIssuesFound\n",
      "Training seconds: 684\n",
      "Billable seconds: 684\n"
     ]
    }
   ],
   "source": [
    "# TODO: Create and fit an estimator\n",
    "\n",
    "#hyperparameters = best_estimator.hyperparameters() # try this first\n",
    "hyperparameters={'batch_size': int(best_estimator.hyperparameters()['batch_size'].replace('\"', \"\")),\n",
    "                      'learning_rate': best_estimator.hyperparameters()['learning_rate']}\n",
    "#From hpo.py\n",
    "#'batch_size': '\"128\"',\n",
    "# 'learning_rate': '0.03087708635920261',\n",
    "\n",
    "#hyperparameters = {\n",
    "#    \"batch_size\": 2048,\n",
    "#    \"gpu\": True,\n",
    "#    \"epoch\": 2,\n",
    "#    \"model\": \"resnet50\",\n",
    "#}\n",
    "\n",
    "\n",
    "os.environ['SM_CHANNEL_TRAINING']='s3://sagemaker-us-east-1-447805070819/sagemaker/PROJECT-pytorch-DOG/'\n",
    "os.environ['SM_MODEL_DIR']='s3://sagemaker-us-east-1-447805070819/model/'\n",
    "os.environ['SM_OUTPUT_DATA_DIR']='s3://sagemaker-us-east-1-447805070819/output/'\n",
    "\n",
    "estimator = PyTorch(\n",
    "    role=sagemaker.get_execution_role(),\n",
    "    instance_count=1,\n",
    "    instance_type=\"ml.p3.2xlarge\",\n",
    "    entry_point=\"train_model.py\",\n",
    "    framework_version=\"1.8\",\n",
    "    py_version=\"py36\",\n",
    "    hyperparameters=hyperparameters,\n",
    "    profiler_config=profiler_config,\n",
    "    debugger_hook_config=debugger_config,\n",
    "    rules=rules,\n",
    ")\n",
    "# TODO: Your estimator here\n",
    "\n",
    "estimator.fit({\"training\": s3_path}, wait=True)\n"
   ]
  },
  {
   "cell_type": "code",
   "execution_count": 31,
   "metadata": {},
   "outputs": [
    {
     "name": "stdout",
     "output_type": "stream",
     "text": [
      "Training jobname: pytorch-training-2022-12-24-18-13-58-206\n",
      "Region: us-east-1\n",
      "[2022-12-24 18:28:12.137 datascience-1-0-ml-t3-medium-1abf3407f667f989be9d86559395:19 INFO utils.py:27] RULE_JOB_STOP_SIGNAL_FILENAME: None\n",
      "[2022-12-24 18:28:12.152 datascience-1-0-ml-t3-medium-1abf3407f667f989be9d86559395:19 INFO s3_trial.py:42] Loading trial debug-output at path s3://sagemaker-us-east-1-447805070819/pytorch-training-2022-12-24-18-13-58-206/debug-output\n"
     ]
    }
   ],
   "source": [
    "# TODO: Plot a debugging output.\n",
    "import boto3\n",
    "\n",
    "session = boto3.session.Session()\n",
    "region = session.region_name\n",
    "\n",
    "training_job_name = estimator.latest_training_job.name\n",
    "print(f\"Training jobname: {training_job_name}\")\n",
    "print(f\"Region: {region}\")\n",
    "\n",
    "from smdebug.trials import create_trial\n",
    "from smdebug.core.modes import ModeKeys\n",
    "\n",
    "trial = create_trial(estimator.latest_job_debugger_artifacts_path())"
   ]
  },
  {
   "cell_type": "code",
   "execution_count": 32,
   "metadata": {
    "tags": []
   },
   "outputs": [
    {
     "data": {
      "text/plain": [
       "'s3://sagemaker-us-east-1-447805070819/pytorch-training-2022-12-24-18-13-58-206/debug-output'"
      ]
     },
     "execution_count": 32,
     "metadata": {},
     "output_type": "execute_result"
    }
   ],
   "source": [
    "estimator.latest_job_debugger_artifacts_path()"
   ]
  },
  {
   "cell_type": "code",
   "execution_count": 66,
   "metadata": {
    "tags": []
   },
   "outputs": [
    {
     "name": "stdout",
     "output_type": "stream",
     "text": [
      "Latets Job debugger artifacts:  s3://sagemaker-us-east-1-447805070819/pytorch-training-2022-12-24-18-13-58-206/debug-output\n",
      "Training jobname: pytorch-training-2022-12-24-18-13-58-206\n"
     ]
    }
   ],
   "source": [
    "print('Latets Job debugger artifacts: ','s3://sagemaker-us-east-1-447805070819/pytorch-training-2022-12-24-18-13-58-206/debug-output'\n",
    "     )\n",
    "print('Training jobname: pytorch-training-2022-12-24-18-13-58-206')"
   ]
  },
  {
   "cell_type": "markdown",
   "metadata": {},
   "source": [
    "## Training job results \n",
    "Training jobname: pytorch-training-2022-12-24-18-13-58-206\n",
    "estimator.latest_job_debugger_artifacts_path()\n",
    "'s3://sagemaker-us-east-1-447805070819/pytorch-training-2022-12-24-18-13-58-206/debug-output'\n"
   ]
  },
  {
   "cell_type": "code",
   "execution_count": 38,
   "metadata": {},
   "outputs": [
    {
     "name": "stdout",
     "output_type": "stream",
     "text": [
      "['CrossEntropyLoss_output_0']\n",
      "1\n",
      "1\n"
     ]
    }
   ],
   "source": [
    "print(trial.tensor_names())\n",
    "print(len(trial.tensor(\"CrossEntropyLoss_output_0\").steps(mode=ModeKeys.TRAIN)))\n",
    "print(len(trial.tensor(\"CrossEntropyLoss_output_0\").steps(mode=ModeKeys.EVAL)))"
   ]
  },
  {
   "cell_type": "markdown",
   "metadata": {},
   "source": [
    "**TODO**: Is there some anomalous behaviour in your debugging output? If so, what is the error and how will you fix it?  \n",
    "Yes , the crossentropyloss output is perfectly one, perhaps this is an error in the configurations or in the logging process of the hooks \\n\n",
    "**TODO**: If not, suppose there was an error. What would that error look like and how would you have fixed it?"
   ]
  },
  {
   "cell_type": "code",
   "execution_count": 43,
   "metadata": {},
   "outputs": [
    {
     "data": {
      "image/png": "[encoded data removed]",
      "text/plain": [
       "<Figure size 640x480 with 1 Axes>"
      ]
     },
     "metadata": {},
     "output_type": "display_data"
    }
   ],
   "source": [
    "import matplotlib.pyplot as plt\n",
    "\n",
    "plt.ylabel('Train Loss')\n",
    "plt.xlabel('Steps')\n",
    "plt.plot(trial.steps(mode=ModeKeys.TRAIN),\n",
    "         list(trial.tensor('CrossEntropyLoss_output_0').values(mode=ModeKeys.TRAIN).values()))\n",
    "plt.show()"
   ]
  },
  {
   "cell_type": "code",
   "execution_count": 67,
   "metadata": {
    "tags": []
   },
   "outputs": [
    {
     "name": "stdout",
     "output_type": "stream",
     "text": [
      "Keyring is skipped due to an exception: 'keyring.backends'\n",
      "Requirement already satisfied: babel in /opt/conda/lib/python3.7/site-packages (2.11.0)\n",
      "Requirement already satisfied: pytz>=2015.7 in /opt/conda/lib/python3.7/site-packages (from babel) (2019.3)\n",
      "\u001b[33mWARNING: Running pip as the 'root' user can result in broken permissions and conflicting behaviour with the system package manager. It is recommended to use a virtual environment instead: https://pip.pypa.io/warnings/venv\u001b[0m\u001b[33m\n",
      "\u001b[0mKeyring is skipped due to an exception: 'keyring.backends'\n",
      "Requirement already satisfied: python-dateutil in /opt/conda/lib/python3.7/site-packages (2.8.2)\n",
      "Requirement already satisfied: six>=1.5 in /opt/conda/lib/python3.7/site-packages (from python-dateutil) (1.14.0)\n",
      "\u001b[33mWARNING: Running pip as the 'root' user can result in broken permissions and conflicting behaviour with the system package manager. It is recommended to use a virtual environment instead: https://pip.pypa.io/warnings/venv\u001b[0m\u001b[33m\n",
      "\u001b[0mKeyring is skipped due to an exception: 'keyring.backends'\n",
      "Collecting flask-moment\n",
      "  Downloading Flask_Moment-1.0.5-py3-none-any.whl (6.1 kB)\n",
      "Requirement already satisfied: packaging>=14.1 in /opt/conda/lib/python3.7/site-packages (from flask-moment) (20.1)\n",
      "Requirement already satisfied: Flask in /opt/conda/lib/python3.7/site-packages (from flask-moment) (2.2.2)\n",
      "Requirement already satisfied: pyparsing>=2.0.2 in /opt/conda/lib/python3.7/site-packages (from packaging>=14.1->flask-moment) (2.4.6)\n",
      "Requirement already satisfied: six in /opt/conda/lib/python3.7/site-packages (from packaging>=14.1->flask-moment) (1.14.0)\n",
      "Requirement already satisfied: Jinja2>=3.0 in /opt/conda/lib/python3.7/site-packages (from Flask->flask-moment) (3.1.2)\n",
      "Requirement already satisfied: importlib-metadata>=3.6.0 in /opt/conda/lib/python3.7/site-packages (from Flask->flask-moment) (5.1.0)\n",
      "Requirement already satisfied: itsdangerous>=2.0 in /opt/conda/lib/python3.7/site-packages (from Flask->flask-moment) (2.1.2)\n",
      "Requirement already satisfied: Werkzeug>=2.2.2 in /opt/conda/lib/python3.7/site-packages (from Flask->flask-moment) (2.2.2)\n",
      "Requirement already satisfied: click>=8.0 in /opt/conda/lib/python3.7/site-packages (from Flask->flask-moment) (8.1.3)\n",
      "Requirement already satisfied: typing-extensions>=3.6.4 in /opt/conda/lib/python3.7/site-packages (from importlib-metadata>=3.6.0->Flask->flask-moment) (4.4.0)\n",
      "Requirement already satisfied: zipp>=0.5 in /opt/conda/lib/python3.7/site-packages (from importlib-metadata>=3.6.0->Flask->flask-moment) (3.11.0)\n",
      "Requirement already satisfied: MarkupSafe>=2.0 in /opt/conda/lib/python3.7/site-packages (from Jinja2>=3.0->Flask->flask-moment) (2.1.1)\n",
      "Installing collected packages: flask-moment\n",
      "Successfully installed flask-moment-1.0.5\n",
      "\u001b[33mWARNING: Running pip as the 'root' user can result in broken permissions and conflicting behaviour with the system package manager. It is recommended to use a virtual environment instead: https://pip.pypa.io/warnings/venv\u001b[0m\u001b[33m\n",
      "\u001b[0mKeyring is skipped due to an exception: 'keyring.backends'\n",
      "Collecting flask-wtf\n",
      "  Downloading Flask_WTF-1.0.1-py3-none-any.whl (12 kB)\n",
      "Requirement already satisfied: Flask in /opt/conda/lib/python3.7/site-packages (from flask-wtf) (2.2.2)\n",
      "Collecting WTForms\n",
      "  Downloading WTForms-3.0.1-py3-none-any.whl (136 kB)\n",
      "\u001b[2K     \u001b[90m━━━━━━━━━━━━━━━━━━━━━━━━━━━━━━━━━━━━━━━\u001b[0m \u001b[32m136.5/136.5 kB\u001b[0m \u001b[31m2.9 MB/s\u001b[0m eta \u001b[36m0:00:00\u001b[0m00:01\u001b[0m\n",
      "\u001b[?25hRequirement already satisfied: itsdangerous in /opt/conda/lib/python3.7/site-packages (from flask-wtf) (2.1.2)\n",
      "Requirement already satisfied: Werkzeug>=2.2.2 in /opt/conda/lib/python3.7/site-packages (from Flask->flask-wtf) (2.2.2)\n",
      "Requirement already satisfied: Jinja2>=3.0 in /opt/conda/lib/python3.7/site-packages (from Flask->flask-wtf) (3.1.2)\n",
      "Requirement already satisfied: click>=8.0 in /opt/conda/lib/python3.7/site-packages (from Flask->flask-wtf) (8.1.3)\n",
      "Requirement already satisfied: importlib-metadata>=3.6.0 in /opt/conda/lib/python3.7/site-packages (from Flask->flask-wtf) (5.1.0)\n",
      "Requirement already satisfied: MarkupSafe in /opt/conda/lib/python3.7/site-packages (from WTForms->flask-wtf) (2.1.1)\n",
      "Requirement already satisfied: typing-extensions>=3.6.4 in /opt/conda/lib/python3.7/site-packages (from importlib-metadata>=3.6.0->Flask->flask-wtf) (4.4.0)\n",
      "Requirement already satisfied: zipp>=0.5 in /opt/conda/lib/python3.7/site-packages (from importlib-metadata>=3.6.0->Flask->flask-wtf) (3.11.0)\n",
      "Installing collected packages: WTForms, flask-wtf\n",
      "Successfully installed WTForms-3.0.1 flask-wtf-1.0.1\n",
      "\u001b[33mWARNING: Running pip as the 'root' user can result in broken permissions and conflicting behaviour with the system package manager. It is recommended to use a virtual environment instead: https://pip.pypa.io/warnings/venv\u001b[0m\u001b[33m\n",
      "\u001b[0mKeyring is skipped due to an exception: 'keyring.backends'\n",
      "Collecting flask_sqlalchemy\n",
      "  Downloading Flask_SQLAlchemy-3.0.2-py3-none-any.whl (24 kB)\n",
      "Requirement already satisfied: Flask>=2.2 in /opt/conda/lib/python3.7/site-packages (from flask_sqlalchemy) (2.2.2)\n",
      "Collecting SQLAlchemy>=1.4.18\n",
      "  Downloading SQLAlchemy-1.4.45-cp37-cp37m-manylinux_2_5_x86_64.manylinux1_x86_64.manylinux_2_17_x86_64.manylinux2014_x86_64.whl (1.6 MB)\n",
      "\u001b[2K     \u001b[90m━━━━━━━━━━━━━━━━━━━━━━━━━━━━━━━━━━━━━━━━\u001b[0m \u001b[32m1.6/1.6 MB\u001b[0m \u001b[31m19.4 MB/s\u001b[0m eta \u001b[36m0:00:00\u001b[0m:00:01\u001b[0m\n",
      "\u001b[?25hRequirement already satisfied: itsdangerous>=2.0 in /opt/conda/lib/python3.7/site-packages (from Flask>=2.2->flask_sqlalchemy) (2.1.2)\n",
      "Requirement already satisfied: Werkzeug>=2.2.2 in /opt/conda/lib/python3.7/site-packages (from Flask>=2.2->flask_sqlalchemy) (2.2.2)\n",
      "Requirement already satisfied: click>=8.0 in /opt/conda/lib/python3.7/site-packages (from Flask>=2.2->flask_sqlalchemy) (8.1.3)\n",
      "Requirement already satisfied: Jinja2>=3.0 in /opt/conda/lib/python3.7/site-packages (from Flask>=2.2->flask_sqlalchemy) (3.1.2)\n",
      "Requirement already satisfied: importlib-metadata>=3.6.0 in /opt/conda/lib/python3.7/site-packages (from Flask>=2.2->flask_sqlalchemy) (5.1.0)\n",
      "Requirement already satisfied: greenlet!=0.4.17 in /opt/conda/lib/python3.7/site-packages (from SQLAlchemy>=1.4.18->flask_sqlalchemy) (0.4.15)\n",
      "Requirement already satisfied: zipp>=0.5 in /opt/conda/lib/python3.7/site-packages (from importlib-metadata>=3.6.0->Flask>=2.2->flask_sqlalchemy) (3.11.0)\n",
      "Requirement already satisfied: typing-extensions>=3.6.4 in /opt/conda/lib/python3.7/site-packages (from importlib-metadata>=3.6.0->Flask>=2.2->flask_sqlalchemy) (4.4.0)\n",
      "Requirement already satisfied: MarkupSafe>=2.0 in /opt/conda/lib/python3.7/site-packages (from Jinja2>=3.0->Flask>=2.2->flask_sqlalchemy) (2.1.1)\n",
      "Installing collected packages: SQLAlchemy, flask_sqlalchemy\n",
      "  Attempting uninstall: SQLAlchemy\n",
      "    Found existing installation: SQLAlchemy 1.3.13\n",
      "    Uninstalling SQLAlchemy-1.3.13:\n",
      "      Successfully uninstalled SQLAlchemy-1.3.13\n",
      "Successfully installed SQLAlchemy-1.4.45 flask_sqlalchemy-3.0.2\n",
      "\u001b[33mWARNING: Running pip as the 'root' user can result in broken permissions and conflicting behaviour with the system package manager. It is recommended to use a virtual environment instead: https://pip.pypa.io/warnings/venv\u001b[0m\u001b[33m\n",
      "\u001b[0m"
     ]
    }
   ],
   "source": [
    "!pip install --upgrade babel\n",
    "!pip install --upgrade python-dateutil\n",
    "!pip install --upgrade flask-moment\n",
    "!pip install --upgrade flask-wtf\n",
    "!pip install --upgrade flask_sqlalchemy\n",
    "\n",
    "\n"
   ]
  },
  {
   "cell_type": "code",
   "execution_count": 68,
   "metadata": {
    "tags": []
   },
   "outputs": [
    {
     "ename": "ImportError",
     "evalue": "cannot import name 'Markup' from 'jinja2' (/opt/conda/lib/python3.7/site-packages/jinja2/__init__.py)",
     "output_type": "error",
     "traceback": [
      "\u001b[0;31m---------------------------------------------------------------------------\u001b[0m",
      "\u001b[0;31mImportError\u001b[0m                               Traceback (most recent call last)",
      "\u001b[0;32m<ipython-input-68-9144a7374bcc>\u001b[0m in \u001b[0;36m<module>\u001b[0;34m\u001b[0m\n\u001b[0;32m----> 1\u001b[0;31m \u001b[0;32mfrom\u001b[0m \u001b[0mjinja2\u001b[0m \u001b[0;32mimport\u001b[0m \u001b[0mEnvironment\u001b[0m\u001b[0;34m,\u001b[0m \u001b[0mMarkup\u001b[0m\u001b[0;34m\u001b[0m\u001b[0;34m\u001b[0m\u001b[0m\n\u001b[0m",
      "\u001b[0;31mImportError\u001b[0m: cannot import name 'Markup' from 'jinja2' (/opt/conda/lib/python3.7/site-packages/jinja2/__init__.py)"
     ]
    }
   ],
   "source": [
    "from jinja2 import Environment, Markup"
   ]
  },
  {
   "cell_type": "code",
   "execution_count": 69,
   "metadata": {},
   "outputs": [
    {
     "ename": "ImportError",
     "evalue": "cannot import name 'Markup' from 'jinja2' (/opt/conda/lib/python3.7/site-packages/jinja2/__init__.py)",
     "output_type": "error",
     "traceback": [
      "\u001b[0;31m---------------------------------------------------------------------------\u001b[0m",
      "\u001b[0;31mImportError\u001b[0m                               Traceback (most recent call last)",
      "\u001b[0;32m<ipython-input-69-64d8857ab8d3>\u001b[0m in \u001b[0;36m<module>\u001b[0;34m\u001b[0m\n\u001b[1;32m      1\u001b[0m \u001b[0;31m# TODO: Display the profiler output\u001b[0m\u001b[0;34m\u001b[0m\u001b[0;34m\u001b[0m\u001b[0;34m\u001b[0m\u001b[0m\n\u001b[1;32m      2\u001b[0m \u001b[0;34m\u001b[0m\u001b[0m\n\u001b[0;32m----> 3\u001b[0;31m \u001b[0;32mfrom\u001b[0m \u001b[0msmdebug\u001b[0m\u001b[0;34m.\u001b[0m\u001b[0mprofiler\u001b[0m\u001b[0;34m.\u001b[0m\u001b[0manalysis\u001b[0m\u001b[0;34m.\u001b[0m\u001b[0mnotebook_utils\u001b[0m\u001b[0;34m.\u001b[0m\u001b[0mtraining_job\u001b[0m \u001b[0;32mimport\u001b[0m \u001b[0mTrainingJob\u001b[0m\u001b[0;34m\u001b[0m\u001b[0;34m\u001b[0m\u001b[0m\n\u001b[0m\u001b[1;32m      4\u001b[0m \u001b[0;34m\u001b[0m\u001b[0m\n\u001b[1;32m      5\u001b[0m \u001b[0mtj\u001b[0m \u001b[0;34m=\u001b[0m \u001b[0mTrainingJob\u001b[0m\u001b[0;34m(\u001b[0m\u001b[0mtraining_job_name\u001b[0m\u001b[0;34m,\u001b[0m \u001b[0mregion\u001b[0m\u001b[0;34m)\u001b[0m\u001b[0;34m\u001b[0m\u001b[0;34m\u001b[0m\u001b[0m\n",
      "\u001b[0;32m/opt/conda/lib/python3.7/site-packages/smdebug/profiler/analysis/notebook_utils/__init__.py\u001b[0m in \u001b[0;36m<module>\u001b[0;34m\u001b[0m\n\u001b[1;32m      1\u001b[0m \u001b[0;31m# Local\u001b[0m\u001b[0;34m\u001b[0m\u001b[0;34m\u001b[0m\u001b[0;34m\u001b[0m\u001b[0m\n\u001b[0;32m----> 2\u001b[0;31m \u001b[0;32mfrom\u001b[0m \u001b[0;34m.\u001b[0m\u001b[0mmetrics_histogram\u001b[0m \u001b[0;32mimport\u001b[0m \u001b[0mMetricsHistogram\u001b[0m\u001b[0;34m\u001b[0m\u001b[0;34m\u001b[0m\u001b[0m\n\u001b[0m\u001b[1;32m      3\u001b[0m \u001b[0;32mfrom\u001b[0m \u001b[0;34m.\u001b[0m\u001b[0mstep_histogram\u001b[0m \u001b[0;32mimport\u001b[0m \u001b[0mStepHistogram\u001b[0m\u001b[0;34m\u001b[0m\u001b[0;34m\u001b[0m\u001b[0m\n\u001b[1;32m      4\u001b[0m \u001b[0;32mfrom\u001b[0m \u001b[0;34m.\u001b[0m\u001b[0mtraining_job\u001b[0m \u001b[0;32mimport\u001b[0m \u001b[0mTrainingJob\u001b[0m\u001b[0;34m\u001b[0m\u001b[0;34m\u001b[0m\u001b[0m\n",
      "\u001b[0;32m/opt/conda/lib/python3.7/site-packages/smdebug/profiler/analysis/notebook_utils/metrics_histogram.py\u001b[0m in \u001b[0;36m<module>\u001b[0;34m\u001b[0m\n\u001b[1;32m      4\u001b[0m \u001b[0;31m# Third Party\u001b[0m\u001b[0;34m\u001b[0m\u001b[0;34m\u001b[0m\u001b[0;34m\u001b[0m\u001b[0m\n\u001b[1;32m      5\u001b[0m \u001b[0;32mimport\u001b[0m \u001b[0mnumpy\u001b[0m \u001b[0;32mas\u001b[0m \u001b[0mnp\u001b[0m\u001b[0;34m\u001b[0m\u001b[0;34m\u001b[0m\u001b[0m\n\u001b[0;32m----> 6\u001b[0;31m \u001b[0;32mfrom\u001b[0m \u001b[0mbokeh\u001b[0m\u001b[0;34m.\u001b[0m\u001b[0mio\u001b[0m \u001b[0;32mimport\u001b[0m \u001b[0moutput_notebook\u001b[0m\u001b[0;34m,\u001b[0m \u001b[0mpush_notebook\u001b[0m\u001b[0;34m,\u001b[0m \u001b[0mshow\u001b[0m\u001b[0;34m\u001b[0m\u001b[0;34m\u001b[0m\u001b[0m\n\u001b[0m\u001b[1;32m      7\u001b[0m \u001b[0;32mfrom\u001b[0m \u001b[0mbokeh\u001b[0m\u001b[0;34m.\u001b[0m\u001b[0mlayouts\u001b[0m \u001b[0;32mimport\u001b[0m \u001b[0mgridplot\u001b[0m\u001b[0;34m\u001b[0m\u001b[0;34m\u001b[0m\u001b[0m\n\u001b[1;32m      8\u001b[0m \u001b[0;32mfrom\u001b[0m \u001b[0mbokeh\u001b[0m\u001b[0;34m.\u001b[0m\u001b[0mmodels\u001b[0m \u001b[0;32mimport\u001b[0m \u001b[0mColumnDataSource\u001b[0m\u001b[0;34m\u001b[0m\u001b[0;34m\u001b[0m\u001b[0m\n",
      "\u001b[0;32m/opt/conda/lib/python3.7/site-packages/bokeh/io/__init__.py\u001b[0m in \u001b[0;36m<module>\u001b[0;34m\u001b[0m\n\u001b[1;32m     49\u001b[0m \u001b[0;32mfrom\u001b[0m \u001b[0;34m.\u001b[0m\u001b[0mdoc\u001b[0m \u001b[0;32mimport\u001b[0m \u001b[0mcurdoc\u001b[0m\u001b[0;34m\u001b[0m\u001b[0;34m\u001b[0m\u001b[0m\n\u001b[1;32m     50\u001b[0m \u001b[0;34m\u001b[0m\u001b[0m\n\u001b[0;32m---> 51\u001b[0;31m \u001b[0;32mfrom\u001b[0m \u001b[0;34m.\u001b[0m\u001b[0mexport\u001b[0m \u001b[0;32mimport\u001b[0m \u001b[0mexport_png\u001b[0m\u001b[0;34m\u001b[0m\u001b[0;34m\u001b[0m\u001b[0m\n\u001b[0m\u001b[1;32m     52\u001b[0m \u001b[0;32mfrom\u001b[0m \u001b[0;34m.\u001b[0m\u001b[0mexport\u001b[0m \u001b[0;32mimport\u001b[0m \u001b[0mexport_svgs\u001b[0m\u001b[0;34m\u001b[0m\u001b[0;34m\u001b[0m\u001b[0m\n\u001b[1;32m     53\u001b[0m \u001b[0;34m\u001b[0m\u001b[0m\n",
      "\u001b[0;32m/opt/conda/lib/python3.7/site-packages/bokeh/io/export.py\u001b[0m in \u001b[0;36m<module>\u001b[0;34m\u001b[0m\n\u001b[1;32m     32\u001b[0m \u001b[0;34m\u001b[0m\u001b[0m\n\u001b[1;32m     33\u001b[0m \u001b[0;31m# Bokeh imports\u001b[0m\u001b[0;34m\u001b[0m\u001b[0;34m\u001b[0m\u001b[0;34m\u001b[0m\u001b[0m\n\u001b[0;32m---> 34\u001b[0;31m \u001b[0;32mfrom\u001b[0m \u001b[0;34m.\u001b[0m\u001b[0;34m.\u001b[0m\u001b[0membed\u001b[0m \u001b[0;32mimport\u001b[0m \u001b[0mfile_html\u001b[0m\u001b[0;34m\u001b[0m\u001b[0;34m\u001b[0m\u001b[0m\n\u001b[0m\u001b[1;32m     35\u001b[0m \u001b[0;32mfrom\u001b[0m \u001b[0;34m.\u001b[0m\u001b[0;34m.\u001b[0m\u001b[0mresources\u001b[0m \u001b[0;32mimport\u001b[0m \u001b[0mINLINE\u001b[0m\u001b[0;34m\u001b[0m\u001b[0;34m\u001b[0m\u001b[0m\n\u001b[1;32m     36\u001b[0m \u001b[0;32mfrom\u001b[0m \u001b[0;34m.\u001b[0m\u001b[0;34m.\u001b[0m\u001b[0mutil\u001b[0m\u001b[0;34m.\u001b[0m\u001b[0mdependencies\u001b[0m \u001b[0;32mimport\u001b[0m \u001b[0mimport_required\u001b[0m\u001b[0;34m\u001b[0m\u001b[0;34m\u001b[0m\u001b[0m\n",
      "\u001b[0;32m/opt/conda/lib/python3.7/site-packages/bokeh/embed/__init__.py\u001b[0m in \u001b[0;36m<module>\u001b[0;34m\u001b[0m\n\u001b[1;32m     52\u001b[0m \u001b[0;31m#-----------------------------------------------------------------------------\u001b[0m\u001b[0;34m\u001b[0m\u001b[0;34m\u001b[0m\u001b[0;34m\u001b[0m\u001b[0m\n\u001b[1;32m     53\u001b[0m \u001b[0;34m\u001b[0m\u001b[0m\n\u001b[0;32m---> 54\u001b[0;31m \u001b[0;32mfrom\u001b[0m \u001b[0;34m.\u001b[0m\u001b[0mserver\u001b[0m \u001b[0;32mimport\u001b[0m \u001b[0mserver_document\u001b[0m\u001b[0;34m\u001b[0m\u001b[0;34m\u001b[0m\u001b[0m\n\u001b[0m\u001b[1;32m     55\u001b[0m \u001b[0;32mfrom\u001b[0m \u001b[0;34m.\u001b[0m\u001b[0mserver\u001b[0m \u001b[0;32mimport\u001b[0m \u001b[0mserver_session\u001b[0m\u001b[0;34m\u001b[0m\u001b[0;34m\u001b[0m\u001b[0m\n\u001b[1;32m     56\u001b[0m \u001b[0;34m\u001b[0m\u001b[0m\n",
      "\u001b[0;32m/opt/conda/lib/python3.7/site-packages/bokeh/embed/server.py\u001b[0m in \u001b[0;36m<module>\u001b[0;34m\u001b[0m\n\u001b[1;32m     27\u001b[0m \u001b[0;34m\u001b[0m\u001b[0m\n\u001b[1;32m     28\u001b[0m \u001b[0;31m# Bokeh imports\u001b[0m\u001b[0;34m\u001b[0m\u001b[0;34m\u001b[0m\u001b[0;34m\u001b[0m\u001b[0m\n\u001b[0;32m---> 29\u001b[0;31m \u001b[0;32mfrom\u001b[0m \u001b[0;34m.\u001b[0m\u001b[0;34m.\u001b[0m\u001b[0mcore\u001b[0m\u001b[0;34m.\u001b[0m\u001b[0mtemplates\u001b[0m \u001b[0;32mimport\u001b[0m \u001b[0mAUTOLOAD_TAG\u001b[0m\u001b[0;34m,\u001b[0m \u001b[0mFILE\u001b[0m\u001b[0;34m\u001b[0m\u001b[0;34m\u001b[0m\u001b[0m\n\u001b[0m\u001b[1;32m     30\u001b[0m \u001b[0;32mfrom\u001b[0m \u001b[0;34m.\u001b[0m\u001b[0;34m.\u001b[0m\u001b[0mresources\u001b[0m \u001b[0;32mimport\u001b[0m \u001b[0mDEFAULT_SERVER_HTTP_URL\u001b[0m\u001b[0;34m\u001b[0m\u001b[0;34m\u001b[0m\u001b[0m\n\u001b[1;32m     31\u001b[0m \u001b[0;32mfrom\u001b[0m \u001b[0;34m.\u001b[0m\u001b[0;34m.\u001b[0m\u001b[0mutil\u001b[0m\u001b[0;34m.\u001b[0m\u001b[0mserialization\u001b[0m \u001b[0;32mimport\u001b[0m \u001b[0mmake_id\u001b[0m\u001b[0;34m\u001b[0m\u001b[0;34m\u001b[0m\u001b[0m\n",
      "\u001b[0;32m/opt/conda/lib/python3.7/site-packages/bokeh/core/templates.py\u001b[0m in \u001b[0;36m<module>\u001b[0;34m\u001b[0m\n\u001b[1;32m     41\u001b[0m \u001b[0;34m\u001b[0m\u001b[0m\n\u001b[1;32m     42\u001b[0m \u001b[0;31m# External imports\u001b[0m\u001b[0;34m\u001b[0m\u001b[0;34m\u001b[0m\u001b[0;34m\u001b[0m\u001b[0m\n\u001b[0;32m---> 43\u001b[0;31m \u001b[0;32mfrom\u001b[0m \u001b[0mjinja2\u001b[0m \u001b[0;32mimport\u001b[0m \u001b[0mEnvironment\u001b[0m\u001b[0;34m,\u001b[0m \u001b[0mMarkup\u001b[0m\u001b[0;34m,\u001b[0m \u001b[0mFileSystemLoader\u001b[0m\u001b[0;34m\u001b[0m\u001b[0;34m\u001b[0m\u001b[0m\n\u001b[0m\u001b[1;32m     44\u001b[0m \u001b[0;34m\u001b[0m\u001b[0m\n\u001b[1;32m     45\u001b[0m \u001b[0;31m# Bokeh imports\u001b[0m\u001b[0;34m\u001b[0m\u001b[0;34m\u001b[0m\u001b[0;34m\u001b[0m\u001b[0m\n",
      "\u001b[0;31mImportError\u001b[0m: cannot import name 'Markup' from 'jinja2' (/opt/conda/lib/python3.7/site-packages/jinja2/__init__.py)"
     ]
    }
   ],
   "source": [
    "# TODO: Display the profiler output\n",
    "\n",
    "from smdebug.profiler.analysis.notebook_utils.training_job import TrainingJob\n",
    "\n",
    "tj = TrainingJob(training_job_name, region)\n",
    "tj.wait_for_sys_profiling_data_to_be_available()\n",
    "\n",
    "from smdebug.profiler.analysis.notebook_utils.timeline_charts import TimelineCharts\n",
    "\n",
    "system_metrics_reader = tj.get_systems_metrics_reader()\n",
    "system_metrics_reader.refresh_event_file_list()\n",
    "\n",
    "view_timeline_charts = TimelineCharts(\n",
    "    system_metrics_reader,\n",
    "    framework_metrics_reader=None,\n",
    "    select_dimensions=[\"CPU\", \"GPU\"],\n",
    "    select_events=[\"total\"],\n",
    ")\n"
   ]
  },
  {
   "cell_type": "code",
   "execution_count": null,
   "metadata": {},
   "outputs": [],
   "source": [
    "rule_output_path = estimator.output_path + estimator.latest_training_job.job_name + \"/rule-output\"\n",
    "print(f\"You will find the profiler report in {rule_output_path}\")"
   ]
  },
  {
   "cell_type": "code",
   "execution_count": null,
   "metadata": {},
   "outputs": [],
   "source": [
    "! aws s3 ls {rule_output_path} --recursive\n",
    "! aws s3 cp {rule_output_path} ./ --recursive"
   ]
  },
  {
   "cell_type": "code",
   "execution_count": null,
   "metadata": {},
   "outputs": [],
   "source": [
    "import os\n",
    "\n",
    "# get the autogenerated folder name of profiler report\n",
    "profiler_report_name = [\n",
    "    rule[\"RuleConfigurationName\"]\n",
    "    for rule in estimator.latest_training_job.rule_job_summary()\n",
    "    if \"Profiler\" in rule[\"RuleConfigurationName\"]\n",
    "][0]\n",
    "\n",
    "import IPython\n",
    "\n",
    "IPython.display.HTML(filename=profiler_report_name + \"/profiler-output/profiler-report.html\")"
   ]
  },
  {
   "cell_type": "markdown",
   "metadata": {},
   "source": [
    "## Model Deploying"
   ]
  },
  {
   "cell_type": "code",
   "execution_count": null,
   "metadata": {},
   "outputs": [],
   "source": [
    "# TODO: Deploy your model to an endpoint\n",
    "\n",
    "predictor=estimator.deploy(initial_instance_count=1, instance_type=\"ml.t2.medium\") # TODO: Add your deployment configuration like instance type and number of instances"
   ]
  },
  {
   "cell_type": "code",
   "execution_count": null,
   "metadata": {},
   "outputs": [],
   "source": [
    "# TODO: Run an prediction on the endpoint\n",
    "\n",
    "from PIL import Image\n",
    "\n",
    "from torchvision import transforms\n",
    "\n",
    "filename = \"./dogImages/test/001.Affenpinscher/Affenpinscher_00023.jpg\"\n",
    "\n",
    "input_image = Image.open(filename)\n",
    "\n"
   ]
  },
  {
   "cell_type": "code",
   "execution_count": null,
   "metadata": {},
   "outputs": [],
   "source": [
    "preprocess = transforms.Compose([\n",
    "            transforms.Resize(256),\n",
    "            transforms.CenterCrop(224),\n",
    "            transforms.ToTensor(),\n",
    "            transforms.Normalize([0.485, 0.456, 0.406], [0.229, 0.224, 0.225])\n",
    "        ]),\n",
    "\n",
    "\n",
    "image_input = preprocess(input_image) # TODO: Your code to load and preprocess image to send to endpoint for prediction\n",
    "image = image.unsqueeze(0)\n",
    "response = predictor.predict(image)"
   ]
  },
  {
   "cell_type": "code",
   "execution_count": null,
   "metadata": {},
   "outputs": [],
   "source": [
    "# TODO: Remember to shutdown/delete your endpoint once your work is done\n",
    "predictor.delete_endpoint()"
   ]
  },
  {
   "cell_type": "code",
   "execution_count": null,
   "metadata": {},
   "outputs": [],
   "source": []
  }
 ],
 "metadata": {
  "instance_type": "ml.t3.medium",
  "kernelspec": {
   "display_name": "Python 3 (Data Science)",
   "language": "python",
   "name": "python3__SAGEMAKER_INTERNAL__arn:aws:sagemaker:us-east-1:081325390199:image/datascience-1.0"
  },
  "language_info": {
   "codemirror_mode": {
    "name": "ipython",
    "version": 3
   },
   "file_extension": ".py",
   "mimetype": "text/x-python",
   "name": "python",
   "nbconvert_exporter": "python",
   "pygments_lexer": "ipython3",
   "version": "3.7.10"
  }
 },
 "nbformat": 4,
 "nbformat_minor": 4
}
